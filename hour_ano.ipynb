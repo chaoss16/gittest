{
 "cells": [
  {
   "cell_type": "code",
   "execution_count": 83,
   "id": "94a3522b",
   "metadata": {
    "scrolled": false
   },
   "outputs": [
    {
     "name": "stdout",
     "output_type": "stream",
     "text": [
      "Empty DataFrame\n",
      "Columns: [date, hour, maxvalue, maxstation, minvalue, minstation, meanvalue]\n",
      "Index: []\n",
      "[]\n",
      "[]\n",
      "0\n",
      "        date  hour  maxvalue maxstation  minvalue minstation  meanvalue\n",
      "0   20150102     1     260.0      2260A       1.0      1018A  26.187544\n",
      "1   20150102     2     198.0      2260A       1.0      1068A  25.637598\n",
      "2   20150102     3     301.0      2260A       1.0      1018A  25.149748\n",
      "3   20150102     4     268.0      2260A       1.0      1015A  25.029732\n",
      "4   20150102     5     310.0      2260A       1.0      1025A  24.335273\n",
      "5   20150102     6     291.0      2260A       1.0      1027A  23.841877\n",
      "6   20150102     7     269.0      2260A       1.0      1048A  22.187817\n",
      "7   20150102     8     245.0      2260A       1.0      1020A  20.567112\n",
      "8   20150102     9     246.0      1976A       1.0      1154A  22.439860\n",
      "9   20150102    10     301.0      1976A       1.0      1424A  27.965174\n",
      "10  20150102    11     339.0      1976A       1.0      1424A  35.957283\n",
      "11  20150102    12     369.0      1976A       1.0      1424A  43.833450\n",
      "12  20150102    13     416.0      1976A       1.0      1424A  50.680448\n",
      "13  20150102    14     460.0      1976A       1.0      1426A  55.676718\n",
      "14  20150102    15     224.0      1366A       2.0      1416A  57.331465\n",
      "15  20150102    16     214.0      1366A       1.0      1419A  56.290007\n",
      "16  20150102    17     227.0      2260A       1.0      1419A  50.235377\n",
      "17  20150102    18     206.0      2260A       1.0      1020A  39.251061\n",
      "18  20150102    19     192.0      2260A       1.0      1154A  31.767491\n",
      "19  20150102    20     252.0      2260A       1.0      1026A  28.170000\n",
      "20  20150102    21     252.0      2260A       1.0      1020A  25.985000\n",
      "21  20150102    22     275.0      2260A       1.0      1013A  24.924340\n",
      "22  20150102    23     271.0      2260A       1.0      1015A  23.945520\n",
      "[26.18754423 25.63759828 25.14974802 25.02973169 24.33527273 23.84187726\n",
      " 22.18781726 20.56711174 22.43986014 27.96517413 35.95728291 43.83344997\n",
      " 50.68044849 55.67671809 57.33146461 56.29000699 50.23537703 39.25106082\n",
      " 31.76749117 28.17       25.985      24.92433976 23.94551971]\n",
      "[ 1  2  3  4  5  6  7  8  9 10 11 12 13 14 15 16 17 18 19 20 21 22 23]\n"
     ]
    },
    {
     "ename": "TypeError",
     "evalue": "'numpy.ndarray' object is not callable",
     "output_type": "error",
     "traceback": [
      "\u001b[1;31m---------------------------------------------------------------------------\u001b[0m",
      "\u001b[1;31mTypeError\u001b[0m                                 Traceback (most recent call last)",
      "\u001b[1;32m~\\AppData\\Local\\Temp/ipykernel_35748/1340259132.py\u001b[0m in \u001b[0;36m<module>\u001b[1;34m\u001b[0m\n\u001b[0;32m     36\u001b[0m \u001b[1;33m\u001b[0m\u001b[0m\n\u001b[0;32m     37\u001b[0m     \u001b[1;32mfor\u001b[0m \u001b[0mhour\u001b[0m \u001b[1;32min\u001b[0m \u001b[0mhour_Ofday\u001b[0m\u001b[1;33m:\u001b[0m\u001b[1;33m\u001b[0m\u001b[1;33m\u001b[0m\u001b[0m\n\u001b[1;32m---> 38\u001b[1;33m         \u001b[0manomalies\u001b[0m\u001b[1;33m[\u001b[0m\u001b[0mhour\u001b[0m\u001b[1;33m,\u001b[0m \u001b[0mday\u001b[0m\u001b[1;33m.\u001b[0m\u001b[0mday_of_year\u001b[0m\u001b[1;33m,\u001b[0m \u001b[1;36m0\u001b[0m\u001b[1;33m]\u001b[0m \u001b[1;33m=\u001b[0m \u001b[0mmeanvalue_Ofday\u001b[0m\u001b[1;33m(\u001b[0m \u001b[0mnp\u001b[0m\u001b[1;33m.\u001b[0m\u001b[0mwhere\u001b[0m\u001b[1;33m(\u001b[0m\u001b[0mhour_Ofday\u001b[0m\u001b[1;33m==\u001b[0m\u001b[0mhour\u001b[0m\u001b[1;33m)\u001b[0m \u001b[1;33m)\u001b[0m\u001b[1;33m;\u001b[0m\u001b[1;33m\u001b[0m\u001b[1;33m\u001b[0m\u001b[0m\n\u001b[0m\u001b[0;32m     39\u001b[0m \u001b[1;33m\u001b[0m\u001b[0m\n\u001b[0;32m     40\u001b[0m     \u001b[1;32mif\u001b[0m \u001b[0mmeanvalue_Ofday\u001b[0m\u001b[1;33m.\u001b[0m\u001b[0msize\u001b[0m \u001b[1;33m==\u001b[0m \u001b[1;36m24\u001b[0m\u001b[1;33m:\u001b[0m\u001b[1;33m\u001b[0m\u001b[1;33m\u001b[0m\u001b[0m\n",
      "\u001b[1;31mTypeError\u001b[0m: 'numpy.ndarray' object is not callable"
     ]
    }
   ],
   "source": [
    "import pandas as pd;\n",
    "import numpy as np;\n",
    "import xlrd;\n",
    "import  datetime;\n",
    "\n",
    "DATA = pd.read_excel(\"D:/local_repository/gittest/data/MA1/2015.O3MA.xlsx\");\n",
    "\n",
    "anomalies = np.zeros( (24,366,7) );\n",
    "\n",
    "start = datetime.datetime(2015, 1, 1);\n",
    "end = datetime.datetime(2015, 1, 5);\n",
    "DAYS = pd.date_range(start,end);\n",
    "DAYS\n",
    "\n",
    "index1 = pd.date_range(datetime.datetime(2015,1,1), datetime.datetime(2015,1,2));\n",
    "Date_OfDATA = data['date']\n",
    "\n",
    "data[Date_OfDATA == 20150105]\n",
    "\n",
    "for day in DAYS:\n",
    "\n",
    "    #datetime格式转化为str形式\n",
    "    date_Ofday = day.strftime('%Y%m%d');\n",
    "    print( data[DateOf_DATA == int(date_Ofday)]);\n",
    "    \n",
    "    # 所有列\n",
    "    data_Ofday = data[DateOf_DATA == int(date_Ofday)];\n",
    "    # menavalue列\n",
    "    meanvalue_Ofday = data_Ofday['meanvalue']; # Series类型：带标签的一维数组\n",
    "    meanvalue_Ofday = np.array(meanvalue_Ofday);\n",
    "    print(meanvalue_Ofday);\n",
    "    # hour列\n",
    "    hour_Ofday = data_Ofday['hour'];\n",
    "    hour_Ofday = np.array(hour_Ofday);\n",
    "    print(hour_Ofday)\n",
    "    \n",
    "    for hour in hour_Ofday:\n",
    "        anomalies[hour, day.day_of_year, 0] = meanvalue_Ofday( np.where(hour_Ofday == hour) );\n",
    "    \n",
    "    if meanvalue_Ofday.size == 24:\n",
    "        print('1');\n",
    "    else:\n",
    "        print('0')\n",
    "    "
   ]
  }
 ],
 "metadata": {
  "kernelspec": {
   "display_name": "Python 3 (ipykernel)",
   "language": "python",
   "name": "python3"
  },
  "language_info": {
   "codemirror_mode": {
    "name": "ipython",
    "version": 3
   },
   "file_extension": ".py",
   "mimetype": "text/x-python",
   "name": "python",
   "nbconvert_exporter": "python",
   "pygments_lexer": "ipython3",
   "version": "3.9.7"
  }
 },
 "nbformat": 4,
 "nbformat_minor": 5
}
